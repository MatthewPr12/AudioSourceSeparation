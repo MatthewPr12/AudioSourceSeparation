{
 "cells": [
  {
   "cell_type": "code",
   "execution_count": 1,
   "metadata": {
    "collapsed": true
   },
   "outputs": [],
   "source": [
    "import numpy as np"
   ]
  },
  {
   "cell_type": "code",
   "execution_count": 113,
   "metadata": {
    "collapsed": false
   },
   "outputs": [],
   "source": [
    "def NMF(X, side, iters=5000):\n",
    "    m, n = np.shape(X)\n",
    "\n",
    "    calc_error = lambda: np.linalg.norm(X - W @ H, ord=2) / np.linalg.norm(X, ord=2)\n",
    "    W = np.abs(np.random.normal(size=(m, side)))\n",
    "    H = np.abs(np.random.normal(size=(side, n)))\n",
    "\n",
    "    for i in range(iters):\n",
    "        H *= (W.T @ X) / ((W.T @ W @ H) + 1e-9)\n",
    "        W *= (X @ H.T) / (W @ H @ H.T + 1e-9)\n",
    "        if i % 100 == 0:\n",
    "            print(f\"Error is {calc_error()}\")\n",
    "\n",
    "    error = calc_error()\n",
    "    print(f\"Error is {error}\")\n",
    "\n",
    "    return W, H, error"
   ]
  },
  {
   "cell_type": "code",
   "execution_count": 120,
   "metadata": {
    "collapsed": false
   },
   "outputs": [],
   "source": [
    "def get_rand_m():\n",
    "    return np.abs(np.random.rand(324, 228)) * 40"
   ]
  },
  {
   "cell_type": "code",
   "execution_count": 121,
   "metadata": {
    "collapsed": false
   },
   "outputs": [
    {
     "name": "stdout",
     "output_type": "stream",
     "text": [
      "Start \n",
      "\n",
      "\n",
      "Error is 0.13165433476660532\n",
      "Error is 0.06761406276996837\n",
      "Error is 0.06737227804795433\n",
      "Error is 0.06726243825725167\n",
      "Error is 0.06720464791676617\n",
      "Error is 0.06716342240709196\n",
      "Error is 0.06713326489415446\n",
      "Error is 0.06711008334860626\n",
      "Error is 0.0670911554449745\n",
      "Error is 0.06707514587797998\n",
      "Error is 0.06706136501788897\n",
      "Error is 0.06704936994330392\n",
      "Error is 0.0670388219385487\n",
      "Error is 0.06702946213003108\n",
      "Error is 0.0670210869189698\n",
      "Error is 0.06701348844990283\n",
      "Error is 0.06700642188723405\n",
      "Error is 0.06699963574856463\n",
      "Error is 0.06699290348159909\n",
      "Error is 0.0669860262772843\n",
      "Error is 0.06697883701350427\n",
      "Error is 0.0669712097516131\n",
      "Error is 0.06696305273088389\n",
      "Error is 0.06695429616363337\n",
      "Error is 0.06694488864895051\n",
      "Error is 0.06693479423092769\n",
      "Error is 0.06692398462914154\n",
      "Error is 0.06691242832357397\n",
      "Error is 0.06690008235821823\n",
      "Error is 0.06688689446412388\n",
      "Error is 0.06687281482784012\n",
      "Error is 0.06685780660711314\n",
      "Error is 0.06684185939478382\n",
      "Error is 0.06682502506573669\n",
      "Error is 0.06680744179973928\n",
      "Error is 0.06678920602656775\n",
      "Error is 0.06676969346739646\n",
      "Error is 0.06674623807182012\n",
      "Error is 0.06671805026595216\n",
      "Error is 0.06668854320934456\n",
      "Error is 0.06665951544287721\n",
      "Error is 0.06663158398305043\n",
      "Error is 0.06660507429210641\n",
      "Error is 0.06658015659149295\n",
      "Error is 0.06655685378231421\n",
      "Error is 0.06653502461529245\n",
      "Error is 0.06651430382668659\n",
      "Error is 0.0664940793105111\n",
      "Error is 0.06647369647296783\n",
      "Error is 0.06645276568080052\n",
      "Error is 0.06643162695423983\n",
      "End \n",
      "\n",
      "========================================\n"
     ]
    }
   ],
   "source": [
    "for _ in range(1):\n",
    "    print(\"Start \\n\\n\", )\n",
    "    NMF(get_rand_m(), 4)\n",
    "    print(\"End \\n\", )\n",
    "    print(\"=\" * 40)\n",
    "\n",
    "\n"
   ]
  }
 ],
 "metadata": {
  "kernelspec": {
   "display_name": "Python 3",
   "language": "python",
   "name": "python3"
  },
  "language_info": {
   "codemirror_mode": {
    "name": "ipython",
    "version": 2
   },
   "file_extension": ".py",
   "mimetype": "text/x-python",
   "name": "python",
   "nbconvert_exporter": "python",
   "pygments_lexer": "ipython2",
   "version": "2.7.6"
  }
 },
 "nbformat": 4,
 "nbformat_minor": 0
}
