{
 "cells": [
  {
   "attachments": {},
   "cell_type": "markdown",
   "metadata": {},
   "source": [
    "## NFM for multisource data"
   ]
  },
  {
   "cell_type": "code",
   "execution_count": 1,
   "metadata": {
    "ExecuteTime": {
     "end_time": "2023-05-16T11:57:51.412576747Z",
     "start_time": "2023-05-16T11:57:51.338668317Z"
    }
   },
   "outputs": [],
   "source": [
    "import numpy as np\n",
    "import librosa\n",
    "import librosa.display\n",
    "import matplotlib.pyplot as plt\n",
    "from sklearn.decomposition import NMF\n"
   ]
  },
  {
   "cell_type": "code",
   "execution_count": 2,
   "metadata": {
    "ExecuteTime": {
     "end_time": "2023-05-16T11:57:51.421999816Z",
     "start_time": "2023-05-16T11:57:51.383616031Z"
    }
   },
   "outputs": [],
   "source": [
    "def plot_components(reconstructed_sounds, sr):\n",
    "    colors = ['r', 'g', 'b']\n",
    "    fig, ax = plt.subplots(nrows=3, ncols=1, sharex=True, figsize=(10, 8))\n",
    "    for i in range(len(reconstructed_sounds)):\n",
    "        librosa.display.waveshow(reconstructed_sounds[i], sr=sr, color=colors[i], ax=ax[i], label=f'Source {i}',\n",
    "                                 x_axis='time')\n",
    "        ax[i].set(xlabel='Time [s]')\n",
    "        ax[i].legend()"
   ]
  },
  {
   "cell_type": "code",
   "execution_count": 3,
   "metadata": {
    "ExecuteTime": {
     "end_time": "2023-05-16T11:57:51.422370958Z",
     "start_time": "2023-05-16T11:57:51.383791755Z"
    }
   },
   "outputs": [],
   "source": [
    "def plot_sounds_waveform(audio_sound, sr):\n",
    "    fig, ax = plt.subplots(figsize=(10, 3))\n",
    "    librosa.display.waveshow(audio_sound, sr=sr, ax=ax, x_axis='time')\n",
    "    ax.set(title='The sound waveform', xlabel='Time [s]')\n",
    "    ax.legend()\n"
   ]
  },
  {
   "cell_type": "code",
   "execution_count": 4,
   "metadata": {
    "ExecuteTime": {
     "end_time": "2023-05-16T11:57:51.422653052Z",
     "start_time": "2023-05-16T11:57:51.383977466Z"
    }
   },
   "outputs": [],
   "source": [
    "def plot_sounds_spectrogram(audio_sound, sr):\n",
    "    fig, ax = plt.subplots(figsize=(10, 3))\n",
    "    X = librosa.stft(audio_sound)\n",
    "    Xdb = librosa.amplitude_to_db(abs(X))\n",
    "    librosa.display.specshow(Xdb, sr=sr, x_axis='time', y_axis='hz', ax=ax)\n",
    "    ax.set(title='The sound spectrogram', xlabel='Time [s]', ylabel='Frequency [Hz]')\n",
    "    ax.legend()"
   ]
  },
  {
   "cell_type": "code",
   "execution_count": 5,
   "metadata": {
    "ExecuteTime": {
     "end_time": "2023-05-16T11:57:51.423935219Z",
     "start_time": "2023-05-16T11:57:51.386377601Z"
    }
   },
   "outputs": [],
   "source": [
    "file1 = \"../AudioData/sounds_mixedX.wav\"\n",
    "file2 = \"../AudioData/sounds_mixedY.wav\"\n",
    "\n",
    "y1, sr1 = librosa.load(file1, sr=None)\n",
    "y2, sr2 = librosa.load(file2, sr=None)\n"
   ]
  },
  {
   "cell_type": "code",
   "execution_count": null,
   "metadata": {},
   "outputs": [],
   "source": [
    "plot_sounds_waveform(y1, sr1)"
   ]
  },
  {
   "cell_type": "code",
   "execution_count": null,
   "metadata": {},
   "outputs": [],
   "source": [
    "plot_sounds_spectrogram(y1, sr1)"
   ]
  },
  {
   "cell_type": "code",
   "execution_count": 26,
   "metadata": {
    "ExecuteTime": {
     "end_time": "2023-05-16T14:32:58.299082508Z",
     "start_time": "2023-05-16T14:32:58.259097751Z"
    }
   },
   "outputs": [],
   "source": [
    "import numpy as np\n",
    "import soundfile as sf\n",
    "\n",
    "def create_mixture(file1, file2, output_file, weights=None):\n",
    "    audio1, sample_rate1 = sf.read(file1)\n",
    "    audio2, sample_rate2 = sf.read(file2)\n",
    "\n",
    "    if sample_rate1 != sample_rate2:\n",
    "        raise ValueError(\"Sample rates of the input files do not match.\")\n",
    "\n",
    "    min_length = min(len(audio1), len(audio2))\n",
    "    audio1 = audio1[:min_length]\n",
    "    audio2 = audio2[:min_length]\n",
    "\n",
    "    if weights is None:\n",
    "        weights = [0.5, 0.5]\n",
    "\n",
    "    audio1 *= weights[0]\n",
    "    audio2 *= weights[1]\n",
    "    mixture = audio1 + audio2\n",
    "\n",
    "    max_value = max(abs(np.max(mixture)), abs(np.min(mixture)))\n",
    "    if max_value > 1.0:\n",
    "        mixture /= max_value\n",
    "    sf.write(output_file, mixture, sample_rate1)\n"
   ]
  },
  {
   "cell_type": "code",
   "execution_count": 27,
   "metadata": {
    "ExecuteTime": {
     "end_time": "2023-05-16T14:33:00.311070731Z",
     "start_time": "2023-05-16T14:33:00.284676318Z"
    },
    "collapsed": false
   },
   "outputs": [],
   "source": [
    "file1 = \"../AudioData/sounds_mixedX.wav\"\n",
    "file2 = \"../AudioData/sounds_mixedY.wav\"\n",
    "output_file = \"../AudioData/sounds_mixed.wav\"\n",
    "create_mixture(file1, file2, output_file, weights=[0.5, 0.5])"
   ]
  }
 ],
 "metadata": {
  "kernelspec": {
   "display_name": "Python 3 (ipykernel)",
   "language": "python",
   "name": "python3"
  },
  "language_info": {
   "codemirror_mode": {
    "name": "ipython",
    "version": 3
   },
   "file_extension": ".py",
   "mimetype": "text/x-python",
   "name": "python",
   "nbconvert_exporter": "python",
   "pygments_lexer": "ipython3",
   "version": "3.10.6"
  }
 },
 "nbformat": 4,
 "nbformat_minor": 2
}
